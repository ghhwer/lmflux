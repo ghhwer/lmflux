{
 "cells": [
  {
   "cell_type": "code",
   "execution_count": null,
   "id": "25f27cf4",
   "metadata": {},
   "outputs": [],
   "source": [
    "import logging\n",
    "from dotenv import load_dotenv\n",
    "\n",
    "load_dotenv()"
   ]
  },
  {
   "cell_type": "code",
   "execution_count": null,
   "id": "1661e56c",
   "metadata": {},
   "outputs": [
    {
     "data": {
      "text/markdown": [
       "```mermaid\n",
       "graph TB\n",
       "9b804ed4-64db-43f6-b69f-94411f773c98(start)\n",
       "52977173-a5f2-4eb2-bb16-c7626c8e2a8b(end)\n",
       "style 9b804ed4-64db-43f6-b69f-94411f773c98 fill:#ffcc00,stroke:#333,stroke-width:2px,color:#000\n",
       "style 52977173-a5f2-4eb2-bb16-c7626c8e2a8b fill:#ffcc00,stroke:#333,stroke-width:2px,color:#000\n",
       "28e7726e-d16d-4d1f-b499-283658471b09(set_data)\n",
       "ea7a1280-3a5f-4323-a305-b697eb8e2776(add_task)\n",
       "28e7726e-d16d-4d1f-b499-283658471b09 --> ea7a1280-3a5f-4323-a305-b697eb8e2776\n",
       "9b804ed4-64db-43f6-b69f-94411f773c98 --> 28e7726e-d16d-4d1f-b499-283658471b09\n",
       "ea7a1280-3a5f-4323-a305-b697eb8e2776 --> 52977173-a5f2-4eb2-bb16-c7626c8e2a8b\n",
       "```"
      ],
      "text/plain": [
       "<IPython.core.display.Markdown object>"
      ]
     },
     "metadata": {},
     "output_type": "display_data"
    }
   ],
   "source": [
    "from lmflux import (\n",
    "    openai_agent, tool,\n",
    "    Session, Agent, Message\n",
    ")\n",
    "from lmflux.graphs import transformer_task, agentic_task, TaskGraph\n",
    "\n",
    "# Creating a new tool\n",
    "@tool\n",
    "def add(a: int, b: int) -> int:\n",
    "    \"\"\"Adds two numbes together\"\"\"\n",
    "    return {\"result\": a + b}\n",
    "\n",
    "# Create an agent\n",
    "agent_oss = openai_agent(\"my-agent\", \"openai.gpt_oss_20b\", tools=[add])\n",
    "\n",
    "#Tasks\n",
    "@transformer_task\n",
    "def set_data(session: Session):\n",
    "    session.set(\"a\", 985)\n",
    "    session.set(\"b\", 1265)\n",
    "\n",
    "@agentic_task(agent_oss)\n",
    "def add_task(agent:Agent, session:Session):\n",
    "    # This resets the internal conversation if there is any\n",
    "    agent.reset_agent_state()\n",
    "    # Builds the template\n",
    "    a = session.get(\"a\")\n",
    "    b = session.get(\"b\")\n",
    "    message = Message(\n",
    "        \"user\", f\"What is {a}+{b}?\"\n",
    "    )\n",
    "    response = agent.conversate(message, session)\n",
    "    session.set(\"result\", response.content)\n",
    "\n",
    "G = TaskGraph()\n",
    "G.connect_tasks(set_data, add_task)\n",
    "G.show_mermaid()"
   ]
  },
  {
   "cell_type": "code",
   "execution_count": 3,
   "id": "124ac683",
   "metadata": {},
   "outputs": [
    {
     "data": {
      "text/plain": [
       "'The sum of 985 and 1265 is **2250**.'"
      ]
     },
     "execution_count": 3,
     "metadata": {},
     "output_type": "execute_result"
    }
   ],
   "source": [
    "session = G.run()\n",
    "session.context.get('result')"
   ]
  },
  {
   "cell_type": "code",
   "execution_count": 7,
   "id": "9fde43de",
   "metadata": {},
   "outputs": [
    {
     "data": {
      "text/plain": [
       "Conversation:\n",
       "----\n",
       "Message(system):\n",
       "\tcontent: You are a helpful assistant.\n",
       "Message(user):\n",
       "\tcontent: What is 985+1265?\n",
       "Message(assistant):\n",
       "\ttool call: [{'id': 'functions.add.add', 'type': 'function', 'function': {'name': 'add', 'arguments': '{\"a\":985,\"b\":1265}'}}]\n",
       "-----\n",
       "\treasoning: The user asks: \"What is 985+1265?\" This is a simple addition question. The user expects the result. 985 + 1265 = 2250. Provide answer: 2250. Then we can use the provided function maybe. There's a function \"add\" that adds two numbers. We can call that. The user wants result. They didn't specifically request the function usage, but we can comply. But we should verify that we want to send the function call in the function format. The tool function signature: functions.add with arguments a and b. We'll call to produce result. Then we need to respond with the result. Since we are using function, we should produce a function execution. The system might want to see the function call. Yes, we can inline the function call. We'll call.\n",
       "-----\n",
       "\n",
       "Message(tool):\n",
       "\tname: add\n",
       "\ttool call: functions.add.add\n",
       "\tcontent: {'result': 2250}\n",
       "Message(assistant):\n",
       "\tcontent: The sum of 985 and 1265 is **2250**.\n",
       "----"
      ]
     },
     "execution_count": 7,
     "metadata": {},
     "output_type": "execute_result"
    }
   ],
   "source": [
    "add_task.agent.llm.conversation"
   ]
  },
  {
   "cell_type": "code",
   "execution_count": null,
   "id": "54f2cfb7",
   "metadata": {},
   "outputs": [],
   "source": []
  }
 ],
 "metadata": {
  "kernelspec": {
   "display_name": ".venv",
   "language": "python",
   "name": "python3"
  },
  "language_info": {
   "codemirror_mode": {
    "name": "ipython",
    "version": 3
   },
   "file_extension": ".py",
   "mimetype": "text/x-python",
   "name": "python",
   "nbconvert_exporter": "python",
   "pygments_lexer": "ipython3",
   "version": "3.11.3"
  }
 },
 "nbformat": 4,
 "nbformat_minor": 5
}
