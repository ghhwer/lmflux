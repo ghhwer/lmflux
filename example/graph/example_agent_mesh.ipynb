{
 "cells": [
  {
   "cell_type": "code",
   "execution_count": 1,
   "id": "25f27cf4",
   "metadata": {},
   "outputs": [
    {
     "data": {
      "text/plain": [
       "True"
      ]
     },
     "execution_count": 1,
     "metadata": {},
     "output_type": "execute_result"
    }
   ],
   "source": [
    "import logging\n",
    "from dotenv import load_dotenv\n",
    "\n",
    "load_dotenv()"
   ]
  },
  {
   "cell_type": "code",
   "execution_count": 2,
   "id": "1661e56c",
   "metadata": {},
   "outputs": [],
   "source": [
    "from lmflux import (\n",
    "    openai_agent, tool,\n",
    "    Session, Agent, Message,\n",
    "    Templates\n",
    ")\n",
    "from lmflux.graphs import MeshGraph\n",
    "\n",
    "# Creating a new tool\n",
    "mock_employee = {\n",
    "    \"123456789\": {\"name\": \"Caio\", \"status\": \"ACTIVE\", \"department\": \"Engineering\"},\n",
    "    \"987654321\": {\"name\": \"Frederico\", \"status\": \"INACTIVE\", \"department\": \"Sales\"},\n",
    "    \"111111111\": {\"name\": \"Joao\", \"status\": \"ACTIVE\", \"department\": \"Accounting\"},\n",
    "}\n",
    "@tool\n",
    "def get_information(employee_id: str) -> int:\n",
    "    \"\"\"Gets any necessary data from HR database\"\"\"\n",
    "    data = mock_employee.get(employee_id, {\"error\": \"Employee with this ID is not found!\"})\n",
    "    return data\n",
    "\n",
    "# Create an agent\n",
    "peter = openai_agent(\n",
    "    \"peter\", \n",
    "    \"openai.gpt_oss_20b\", tools=[],\n",
    "    system_prompt=\"You are Peter, an AI agent you directly comunicate with other agents to get the information you need.\"\n",
    ")\n",
    "bob = openai_agent(\n",
    "    \"bob\", \n",
    "    \"openai.gpt_oss_20b\", \n",
    "    tools=[get_information], \n",
    "    system_prompt=\"You are Bob, an AI agent, you have access to employee records and helps other agents.\"\n",
    ")"
   ]
  },
  {
   "cell_type": "code",
   "execution_count": 3,
   "id": "124ac683",
   "metadata": {},
   "outputs": [
    {
     "data": {
      "text/markdown": [
       "```mermaid\n",
       "graph TB\n",
       "f6f1665b-fadd-43c9-9126-1f455d0698be(peter)\n",
       "c2b53696-a562-4548-ac42-bd2856f95c6d(bob)\n",
       "f6f1665b-fadd-43c9-9126-1f455d0698be --Can call--> c2b53696-a562-4548-ac42-bd2856f95c6d\n",
       "```"
      ],
      "text/plain": [
       "<IPython.core.display.Markdown object>"
      ]
     },
     "metadata": {},
     "output_type": "display_data"
    }
   ],
   "source": [
    "G = MeshGraph()\n",
    "G.connect_agents(peter, bob, \"You can ask bob things about employees\")\n",
    "G.show_mermaid()"
   ]
  },
  {
   "cell_type": "code",
   "execution_count": 5,
   "id": "23acac3e",
   "metadata": {},
   "outputs": [
    {
     "data": {
      "text/markdown": [
       "**Human**:\n",
       "\n",
       "What is the status of employee id 123456789?\n",
       "\n",
       "**Agent Calls**\n",
       "\n",
       "- peter (5 messages)\n",
       "\t- bob (5 messages)\n"
      ],
      "text/plain": [
       "<IPython.core.display.Markdown object>"
      ]
     },
     "metadata": {},
     "output_type": "display_data"
    }
   ],
   "source": [
    "message = G.query_agent(peter, \"What is the status of employee id 123456789?\", show_progress=True)"
   ]
  },
  {
   "cell_type": "code",
   "execution_count": 7,
   "id": "ac180698",
   "metadata": {},
   "outputs": [
    {
     "data": {
      "text/markdown": [
       "```mermaid\n",
       "flowchart TB\n",
       "    %% Global wrapper for all agents\n",
       "    subgraph ALL_AGENTS[\"All Agents\"]\n",
       "        direction TB\n",
       "        subgraph subgraph_peter[\"peter\"]\n",
       "            msg0[\"system\"]\n",
       "            msg1[\"user\"]\n",
       "            msg0 --> msg1\n",
       "            msg2[\"assistant\"]\n",
       "            msg1 --> msg2\n",
       "            msg3[\"tool\"]\n",
       "            msg2 --> msg3\n",
       "            msg4[\"assistant\"]\n",
       "            msg3 --> msg4\n",
       "            c879952a-47a1-4c23-a96e-97773979a1b2__out((\"talk to bob\"))\n",
       "            msg2 --> c879952a-47a1-4c23-a96e-97773979a1b2__out\n",
       "        end\n",
       "        subgraph subgraph_bob[\"bob\"]\n",
       "            msg5[\"system\"]\n",
       "            msg6[\"user\"]\n",
       "            msg5 --> msg6\n",
       "            msg7[\"assistant\"]\n",
       "            msg6 --> msg7\n",
       "            msg8[\"tool\"]\n",
       "            msg7 --> msg8\n",
       "            msg9[\"assistant\"]\n",
       "            msg8 --> msg9\n",
       "            c879952a-47a1-4c23-a96e-97773979a1b2__in((\"talk to peter\"))\n",
       "            c879952a-47a1-4c23-a96e-97773979a1b2__in --> msg6\n",
       "            msg9 --> c879952a-47a1-4c23-a96e-97773979a1b2__in\n",
       "        end\n",
       "    end\n",
       "    %% Global wrapper for humans\n",
       "    subgraph subgraph_human[\"Human\"]\n",
       "        hmsg10[\"User Query\"]\n",
       "        hmsg11[\"User Response\"]\n",
       "    end\n",
       "    class c879952a-47a1-4c23-a96e-97773979a1b2__in interaction\n",
       "    class c879952a-47a1-4c23-a96e-97773979a1b2__out interaction\n",
       "c879952a-47a1-4c23-a96e-97773979a1b2__out <-.-> c879952a-47a1-4c23-a96e-97773979a1b2__in\n",
       "        hmsg10 -.-> msg1\n",
       "        msg4 -.-> hmsg11\n",
       "```"
      ],
      "text/plain": [
       "<IPython.core.display.Markdown object>"
      ]
     },
     "metadata": {},
     "output_type": "display_data"
    }
   ],
   "source": [
    "G.set_mermaid_render()\n",
    "G.show_result()"
   ]
  },
  {
   "cell_type": "code",
   "execution_count": null,
   "id": "faeb6ba6",
   "metadata": {},
   "outputs": [],
   "source": []
  }
 ],
 "metadata": {
  "kernelspec": {
   "display_name": ".venv",
   "language": "python",
   "name": "python3"
  },
  "language_info": {
   "codemirror_mode": {
    "name": "ipython",
    "version": 3
   },
   "file_extension": ".py",
   "mimetype": "text/x-python",
   "name": "python",
   "nbconvert_exporter": "python",
   "pygments_lexer": "ipython3",
   "version": "3.11.3"
  }
 },
 "nbformat": 4,
 "nbformat_minor": 5
}
