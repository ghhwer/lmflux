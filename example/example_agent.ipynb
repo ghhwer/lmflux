{
 "cells": [
  {
   "cell_type": "code",
   "execution_count": 1,
   "id": "135f62f1",
   "metadata": {},
   "outputs": [],
   "source": [
    "import logging\n",
    "from dotenv import load_dotenv\n",
    "\n",
    "load_dotenv()\n",
    "\n",
    "# Get the root logger\n",
    "logger = logging.getLogger()\n",
    "# Create a handler to output log messages to the console\n",
    "handler = logging.StreamHandler()\n",
    "# Create a formatter to format log messages\n",
    "formatter = logging.Formatter('%(asctime)s - %(name)s - %(levelname)s - %(message)s')\n",
    "handler.setFormatter(formatter)\n",
    "logger.addHandler(handler)"
   ]
  },
  {
   "cell_type": "code",
   "execution_count": 2,
   "id": "e29baa7e",
   "metadata": {},
   "outputs": [
    {
     "name": "stdout",
     "output_type": "stream",
     "text": [
      "Agent used some tool ChatCompletionMessageFunctionToolCall(id='tooluse_OXZkxTK6TAStlOgj2xu-lw', function=Function(arguments='{\"a\": 985, \"b\": 1265}', name='add'), type='function') {'result': 2250} <lmflux.agents.sessions.Session object at 0x000002880DBEBA50>\n",
      "adder Got its conversation updated. 5 message on its context window\n"
     ]
    },
    {
     "data": {
      "text/plain": [
       "('The result of 985 + 1265 is 2250.', {'result': 2250})"
      ]
     },
     "execution_count": 2,
     "metadata": {},
     "output_type": "execute_result"
    }
   ],
   "source": [
    "from local_llms import Llama4Maverick\n",
    "from lmflux.flow import (\n",
    "    new_toolbox,\n",
    "    create_agent,\n",
    "    tool\n",
    ")\n",
    "from lmflux.agents.sessions import Session\n",
    "from lmflux.agents.structure import Agent\n",
    "from lmflux.core.components import (SystemPrompt, Message, Conversation)\n",
    "\n",
    "# Creating a new tool\n",
    "@tool\n",
    "def add(a: int, b: int) -> int:\n",
    "    \"\"\"Adds two numbes together\"\"\"\n",
    "    return {\"result\": a + b}\n",
    "\n",
    "def callback_tool_use(agent: Agent, tool_call, result, session: Session):\n",
    "    print(\"Agent used some tool\", tool_call, result, session)\n",
    "    session.context.set(\"raw_add_result\", result)\n",
    "\n",
    "def conversation_update_callback(agent: Agent, conversation: Conversation):\n",
    "    print(agent.agent_id, 'Got its conversation updated.', len(conversation), 'message on its context window')\n",
    "\n",
    "def adder_act(agent:Agent, session:Session):\n",
    "    a = session.context.get(\"a\")\n",
    "    b = session.context.get(\"b\")\n",
    "    message = Message(\n",
    "        \"user\", f\"What is {a}+{b}?\"\n",
    "    )\n",
    "    response = agent.conversate(message, session)\n",
    "    session.context.set(\"result\", response.content)\n",
    "\n",
    "# Set up the agent\n",
    "system_prompt = SystemPrompt('general.user_preference')\n",
    "adder_llm = Llama4Maverick(system_prompt)\n",
    "\n",
    "toolbox = new_toolbox()\n",
    "toolbox.add_to_toolbox(add)\n",
    "\n",
    "adder_agent = (\n",
    "    create_agent(adder_llm, \"adder\")\n",
    "        .with_tools(toolbox)\n",
    "        .with_custom_act(adder_act)\n",
    "        .with_tool_callback(callback_tool_use)\n",
    "        .with_conversation_update_callback(conversation_update_callback)\n",
    "        .build()\n",
    ")\n",
    "\n",
    "# Call the agent\n",
    "session = Session()\n",
    "session.context.set(\"a\", 985)\n",
    "session.context.set(\"b\", 1265)\n",
    "\n",
    "adder_agent.act(session)\n",
    "\n",
    "session.context.get(\"result\"), session.context.get(\"raw_add_result\")"
   ]
  },
  {
   "cell_type": "code",
   "execution_count": null,
   "id": "4b49f510",
   "metadata": {},
   "outputs": [],
   "source": []
  }
 ],
 "metadata": {
  "kernelspec": {
   "display_name": "Python 3",
   "language": "python",
   "name": "python3"
  },
  "language_info": {
   "codemirror_mode": {
    "name": "ipython",
    "version": 3
   },
   "file_extension": ".py",
   "mimetype": "text/x-python",
   "name": "python",
   "nbconvert_exporter": "python",
   "pygments_lexer": "ipython3",
   "version": "3.11.3"
  }
 },
 "nbformat": 4,
 "nbformat_minor": 5
}
