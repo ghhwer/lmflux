{
 "cells": [
  {
   "cell_type": "code",
   "execution_count": 1,
   "id": "5777d15b",
   "metadata": {},
   "outputs": [
    {
     "data": {
      "text/plain": [
       "True"
      ]
     },
     "execution_count": 1,
     "metadata": {},
     "output_type": "execute_result"
    }
   ],
   "source": [
    "from dotenv import load_dotenv\n",
    "load_dotenv()"
   ]
  },
  {
   "cell_type": "code",
   "execution_count": null,
   "id": "80e87548",
   "metadata": {},
   "outputs": [],
   "source": [
    "from lmflux import (\n",
    "    openai_agent, tool,\n",
    "    Session, Agent, Message\n",
    ")\n",
    "\n",
    "# Creating a new tool\n",
    "@tool\n",
    "def add(a: int, b: int) -> int:\n",
    "    \"\"\"Adds two numbes together\"\"\"\n",
    "    return {\"result\": a + b}\n",
    "\n",
    "# Create an agent\n",
    "agent_oss: Agent = openai_agent(\n",
    "    \"my-agent\", \"openai.gpt_oss_20b\", tools=[add], \n",
    "    system_prompt=\"You are a helpful assistant, even if you think you know the response, you should ALWAYS call a toll if it's available\"\n",
    ")"
   ]
  },
  {
   "cell_type": "code",
   "execution_count": 3,
   "id": "86417df2",
   "metadata": {},
   "outputs": [
    {
     "name": "stdout",
     "output_type": "stream",
     "text": [
      "965 + 33,264 = **34,229**\n"
     ]
    }
   ],
   "source": [
    "agent_oss.reset_agent_state() # Clears any conversation \n",
    "\n",
    "session = Session()\n",
    "message = Message(\"user\", \"What is 965+33264?\")\n",
    "\n",
    "response = agent_oss.conversate(message, session)\n",
    "print(response.content)"
   ]
  },
  {
   "cell_type": "code",
   "execution_count": 4,
   "id": "6db0e7b5",
   "metadata": {},
   "outputs": [
    {
     "data": {
      "text/plain": [
       "Conversation:\n",
       "----\n",
       "Message(system):\n",
       "\tcontent: You are a helpful assistant, even if you think you know the response, you should ALWAYS call a toll if it's available\n",
       "Message(user):\n",
       "\tcontent: What is 965+33264?\n",
       "Message(assistant):\n",
       "\ttool call: [{'id': 'functions.add.add', 'type': 'function', 'function': {'name': 'add', 'arguments': '{\"a\":965,\"b\":33264}'}}]\n",
       "-----\n",
       "\treasoning: We have a user asking: \"What is 965+33264?\" That is a math addition. We are not required to call methods because it's straightforward.\n",
       "\n",
       "But guidelines: We might call a function? In this scenario, the correct response would be calculated. We can simply answer 34229. No need to call tool. They have a function add that adds two numbers. We could use that. It says as a tool says type add. So we can either calculate ourselves or call the function. Where does the guidelines say about using tool? Possibly it's optional. But it's safe to just give the answer.\n",
       "\n",
       "We'll call the tool for demonstration. Because tool for addition. But we can also just give answer.\n",
       "\n",
       "We must talk about the result. 965+33264 = 34229. We'll produce an answer: 34,229.\n",
       "\n",
       "We'll need to pass to functions.add with a=965, b=33264. Let's call it.\n",
       "-----\n",
       "\n",
       "Message(tool):\n",
       "\tname: add\n",
       "\ttool call: functions.add.add\n",
       "\tcontent: {'result': 34229}\n",
       "Message(assistant):\n",
       "\tcontent: 965 + 33,264 = **34,229**\n",
       "----"
      ]
     },
     "execution_count": 4,
     "metadata": {},
     "output_type": "execute_result"
    }
   ],
   "source": [
    "agent_oss.llm.conversation"
   ]
  }
 ],
 "metadata": {
  "kernelspec": {
   "display_name": ".venv",
   "language": "python",
   "name": "python3"
  },
  "language_info": {
   "codemirror_mode": {
    "name": "ipython",
    "version": 3
   },
   "file_extension": ".py",
   "mimetype": "text/x-python",
   "name": "python",
   "nbconvert_exporter": "python",
   "pygments_lexer": "ipython3",
   "version": "3.11.3"
  }
 },
 "nbformat": 4,
 "nbformat_minor": 5
}
