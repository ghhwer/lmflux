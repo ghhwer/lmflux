{
 "cells": [
  {
   "cell_type": "code",
   "execution_count": null,
   "id": "1175d706",
   "metadata": {},
   "outputs": [],
   "source": [
    "from lmflux import Templates, SystemPrompt, TemplatedPrompt"
   ]
  },
  {
   "cell_type": "code",
   "execution_count": 2,
   "id": "a169bf2d",
   "metadata": {},
   "outputs": [
    {
     "ename": "AttributeError",
     "evalue": "Template some.template was not found",
     "output_type": "error",
     "traceback": [
      "\u001b[31m---------------------------------------------------------------------------\u001b[39m",
      "\u001b[31mAttributeError\u001b[39m                            Traceback (most recent call last)",
      "\u001b[36mCell\u001b[39m\u001b[36m \u001b[39m\u001b[32mIn[2]\u001b[39m\u001b[32m, line 1\u001b[39m\n\u001b[32m----> \u001b[39m\u001b[32m1\u001b[39m \u001b[43mTemplates\u001b[49m\u001b[43m(\u001b[49m\u001b[43m)\u001b[49m\u001b[43m.\u001b[49m\u001b[43mget_template\u001b[49m\u001b[43m(\u001b[49m\u001b[33;43m\"\u001b[39;49m\u001b[33;43msome.template\u001b[39;49m\u001b[33;43m\"\u001b[39;49m\u001b[43m)\u001b[49m\n",
      "\u001b[36mFile \u001b[39m\u001b[32mw:\\python\\installed_projects\\assistant_v3\\.venv\\Lib\\site-packages\\lmflux\\core\\templates.py:96\u001b[39m, in \u001b[36mTemplates.get_template\u001b[39m\u001b[34m(self, template_id)\u001b[39m\n\u001b[32m     94\u001b[39m     \u001b[38;5;28;01mreturn\u001b[39;00m data\n\u001b[32m     95\u001b[39m \u001b[38;5;28;01melse\u001b[39;00m:\n\u001b[32m---> \u001b[39m\u001b[32m96\u001b[39m     \u001b[38;5;28;01mraise\u001b[39;00m \u001b[38;5;167;01mAttributeError\u001b[39;00m(\u001b[33mf\u001b[39m\u001b[33m\"\u001b[39m\u001b[33mTemplate \u001b[39m\u001b[38;5;132;01m{\u001b[39;00mtemplate_id\u001b[38;5;132;01m}\u001b[39;00m\u001b[33m was not found\u001b[39m\u001b[33m\"\u001b[39m)\n",
      "\u001b[31mAttributeError\u001b[39m: Template some.template was not found"
     ]
    }
   ],
   "source": [
    "Templates().get_template(\"some.template\")"
   ]
  },
  {
   "cell_type": "code",
   "execution_count": null,
   "id": "3e46b37c",
   "metadata": {},
   "outputs": [
    {
     "data": {
      "text/plain": [
       "'example'"
      ]
     },
     "execution_count": 4,
     "metadata": {},
     "output_type": "execute_result"
    }
   ],
   "source": [
    "Templates().put_template(\"some.template\", \"example\")\n",
    "Templates().get_template(\"some.template\")"
   ]
  },
  {
   "cell_type": "code",
   "execution_count": 3,
   "id": "df67f54e",
   "metadata": {},
   "outputs": [
    {
     "ename": "AttributeError",
     "evalue": "Can't persist a template, the external location was not defined",
     "output_type": "error",
     "traceback": [
      "\u001b[31m---------------------------------------------------------------------------\u001b[39m",
      "\u001b[31mAttributeError\u001b[39m                            Traceback (most recent call last)",
      "\u001b[36mCell\u001b[39m\u001b[36m \u001b[39m\u001b[32mIn[3]\u001b[39m\u001b[32m, line 1\u001b[39m\n\u001b[32m----> \u001b[39m\u001b[32m1\u001b[39m \u001b[43mTemplates\u001b[49m\u001b[43m(\u001b[49m\u001b[43m)\u001b[49m\u001b[43m.\u001b[49m\u001b[43mput_template\u001b[49m\u001b[43m(\u001b[49m\u001b[33;43m\"\u001b[39;49m\u001b[33;43msome.template\u001b[39;49m\u001b[33;43m\"\u001b[39;49m\u001b[43m,\u001b[49m\u001b[43m \u001b[49m\u001b[33;43m\"\u001b[39;49m\u001b[33;43mexample\u001b[39;49m\u001b[33;43m\"\u001b[39;49m\u001b[43m,\u001b[49m\u001b[43m \u001b[49m\u001b[43mpersistent\u001b[49m\u001b[43m=\u001b[49m\u001b[38;5;28;43;01mTrue\u001b[39;49;00m\u001b[43m)\u001b[49m\n",
      "\u001b[36mFile \u001b[39m\u001b[32mw:\\python\\installed_projects\\assistant_v3\\.venv\\Lib\\site-packages\\lmflux\\core\\templates.py:82\u001b[39m, in \u001b[36mTemplates.put_template\u001b[39m\u001b[34m(self, template_id, template_src, persistent)\u001b[39m\n\u001b[32m     70\u001b[39m \u001b[38;5;250m\u001b[39m\u001b[33;03m\"\"\"\u001b[39;00m\n\u001b[32m     71\u001b[39m \u001b[33;03mStores a template.\u001b[39;00m\n\u001b[32m     72\u001b[39m \u001b[33;03m\u001b[39;00m\n\u001b[32m   (...)\u001b[39m\u001b[32m     79\u001b[39m \u001b[33;03m    AttributeError: If persistent is True but the external location is not defined.\u001b[39;00m\n\u001b[32m     80\u001b[39m \u001b[33;03m\"\"\"\u001b[39;00m\n\u001b[32m     81\u001b[39m \u001b[38;5;28;01mif\u001b[39;00m persistent:\n\u001b[32m---> \u001b[39m\u001b[32m82\u001b[39m     \u001b[38;5;28;43mself\u001b[39;49m\u001b[43m.\u001b[49m\u001b[43m__create_in_external_location__\u001b[49m\u001b[43m(\u001b[49m\u001b[43mtemplate_id\u001b[49m\u001b[43m,\u001b[49m\u001b[43m \u001b[49m\u001b[43mcontent\u001b[49m\u001b[43m=\u001b[49m\u001b[43mtemplate_src\u001b[49m\u001b[43m)\u001b[49m\n\u001b[32m     83\u001b[39m \u001b[38;5;28;01melse\u001b[39;00m:\n\u001b[32m     84\u001b[39m     \u001b[38;5;28mself\u001b[39m.__inmem_templates[template_id] = template_src\n",
      "\u001b[36mFile \u001b[39m\u001b[32mw:\\python\\installed_projects\\assistant_v3\\.venv\\Lib\\site-packages\\lmflux\\core\\templates.py:31\u001b[39m, in \u001b[36mTemplates.__create_in_external_location__\u001b[39m\u001b[34m(self, template_id, content)\u001b[39m\n\u001b[32m     29\u001b[39m \u001b[38;5;28;01mdef\u001b[39;00m\u001b[38;5;250m \u001b[39m\u001b[34m__create_in_external_location__\u001b[39m(\u001b[38;5;28mself\u001b[39m, template_id:\u001b[38;5;28mstr\u001b[39m, content:\u001b[38;5;28mstr\u001b[39m):\n\u001b[32m     30\u001b[39m     \u001b[38;5;28;01mif\u001b[39;00m \u001b[38;5;28mself\u001b[39m.__external_location == \u001b[33m\"\u001b[39m\u001b[33m__UNDEFINED__\u001b[39m\u001b[33m\"\u001b[39m:\n\u001b[32m---> \u001b[39m\u001b[32m31\u001b[39m         \u001b[38;5;28;01mraise\u001b[39;00m \u001b[38;5;167;01mAttributeError\u001b[39;00m(\u001b[33m\"\u001b[39m\u001b[33mCan\u001b[39m\u001b[33m'\u001b[39m\u001b[33mt persist a template, the external location was not defined\u001b[39m\u001b[33m\"\u001b[39m)\n\u001b[32m     32\u001b[39m     path = \u001b[38;5;28mself\u001b[39m.__get_template_external_path__(template_id)\n\u001b[32m     33\u001b[39m     os.makedirs(os.path.dirname(path), exist_ok=\u001b[38;5;28;01mTrue\u001b[39;00m)\n",
      "\u001b[31mAttributeError\u001b[39m: Can't persist a template, the external location was not defined"
     ]
    }
   ],
   "source": [
    "Templates().put_template(\"some.template\", \"example\", persistent=True)"
   ]
  },
  {
   "cell_type": "code",
   "execution_count": null,
   "id": "caf91a3a",
   "metadata": {},
   "outputs": [
    {
     "data": {
      "text/plain": [
       "['./examples\\\\some\\\\template.md']"
      ]
     },
     "execution_count": 7,
     "metadata": {},
     "output_type": "execute_result"
    }
   ],
   "source": [
    "## Templates can be persisted, by either setting their location or setting the env var: `PROMPT_LOCATION`\n",
    "from glob import glob\n",
    "\n",
    "Templates().set_location(\"./examples\")\n",
    "Templates().put_template(\"some.template\", \"example\", persistent=True)\n",
    "\n",
    "# Templates are stored as markdown files on the location they were set\n",
    "glob(\"./examples/**/**.md\")"
   ]
  },
  {
   "cell_type": "code",
   "execution_count": 8,
   "id": "8a46ffd5",
   "metadata": {},
   "outputs": [
    {
     "data": {
      "text/plain": [
       "'example'"
      ]
     },
     "execution_count": 8,
     "metadata": {},
     "output_type": "execute_result"
    }
   ],
   "source": [
    "Templates().get_template(\"some.template\",)"
   ]
  },
  {
   "cell_type": "code",
   "execution_count": 9,
   "id": "edb3c2d1",
   "metadata": {},
   "outputs": [
    {
     "ename": "AttributeError",
     "evalue": "Template some.template was not found",
     "output_type": "error",
     "traceback": [
      "\u001b[31m---------------------------------------------------------------------------\u001b[39m",
      "\u001b[31mAttributeError\u001b[39m                            Traceback (most recent call last)",
      "\u001b[36mCell\u001b[39m\u001b[36m \u001b[39m\u001b[32mIn[9]\u001b[39m\u001b[32m, line 3\u001b[39m\n\u001b[32m      1\u001b[39m \u001b[38;5;66;03m## You can delete templates\u001b[39;00m\n\u001b[32m      2\u001b[39m Templates().delete_template(\u001b[33m\"\u001b[39m\u001b[33msome.template\u001b[39m\u001b[33m\"\u001b[39m) \u001b[38;5;66;03m# Soft deletes a template (valid during the program's execution time)\u001b[39;00m\n\u001b[32m----> \u001b[39m\u001b[32m3\u001b[39m \u001b[43mTemplates\u001b[49m\u001b[43m(\u001b[49m\u001b[43m)\u001b[49m\u001b[43m.\u001b[49m\u001b[43mget_template\u001b[49m\u001b[43m(\u001b[49m\u001b[33;43m\"\u001b[39;49m\u001b[33;43msome.template\u001b[39;49m\u001b[33;43m\"\u001b[39;49m\u001b[43m,\u001b[49m\u001b[43m)\u001b[49m\n",
      "\u001b[36mFile \u001b[39m\u001b[32mw:\\python\\installed_projects\\assistant_v3\\.venv\\Lib\\site-packages\\lmflux\\core\\templates.py:88\u001b[39m, in \u001b[36mTemplates.get_template\u001b[39m\u001b[34m(self, template_id)\u001b[39m\n\u001b[32m     86\u001b[39m \u001b[38;5;28;01mdef\u001b[39;00m\u001b[38;5;250m \u001b[39m\u001b[34mget_template\u001b[39m(\u001b[38;5;28mself\u001b[39m, template_id:\u001b[38;5;28mstr\u001b[39m) -> \u001b[38;5;28mstr\u001b[39m:\n\u001b[32m     87\u001b[39m     \u001b[38;5;28;01mif\u001b[39;00m template_id \u001b[38;5;129;01min\u001b[39;00m \u001b[38;5;28mself\u001b[39m.__ignore_template_id:\n\u001b[32m---> \u001b[39m\u001b[32m88\u001b[39m         \u001b[38;5;28;01mraise\u001b[39;00m \u001b[38;5;167;01mAttributeError\u001b[39;00m(\u001b[33mf\u001b[39m\u001b[33m\"\u001b[39m\u001b[33mTemplate \u001b[39m\u001b[38;5;132;01m{\u001b[39;00mtemplate_id\u001b[38;5;132;01m}\u001b[39;00m\u001b[33m was not found\u001b[39m\u001b[33m\"\u001b[39m)\n\u001b[32m     89\u001b[39m     \u001b[38;5;28;01mif\u001b[39;00m template_id \u001b[38;5;129;01min\u001b[39;00m \u001b[38;5;28mself\u001b[39m.__inmem_templates:\n\u001b[32m     90\u001b[39m         data = \u001b[38;5;28mself\u001b[39m.__inmem_templates.get(template_id)\n",
      "\u001b[31mAttributeError\u001b[39m: Template some.template was not found"
     ]
    }
   ],
   "source": [
    "## You can delete templates\n",
    "Templates().delete_template(\"some.template\") # Soft deletes a template (valid during the program's execution time)\n",
    "Templates().get_template(\"some.template\",)"
   ]
  },
  {
   "cell_type": "code",
   "execution_count": 10,
   "id": "158dafdf",
   "metadata": {},
   "outputs": [
    {
     "ename": "AttributeError",
     "evalue": "Template some.template was not found",
     "output_type": "error",
     "traceback": [
      "\u001b[31m---------------------------------------------------------------------------\u001b[39m",
      "\u001b[31mAttributeError\u001b[39m                            Traceback (most recent call last)",
      "\u001b[36mCell\u001b[39m\u001b[36m \u001b[39m\u001b[32mIn[10]\u001b[39m\u001b[32m, line 4\u001b[39m\n\u001b[32m      2\u001b[39m Templates().set_hard_external_delete() \u001b[38;5;66;03m# Setting this will remove them permanently from the disk\u001b[39;00m\n\u001b[32m      3\u001b[39m Templates().delete_template(\u001b[33m\"\u001b[39m\u001b[33msome.template\u001b[39m\u001b[33m\"\u001b[39m) \u001b[38;5;66;03m# Soft deletes a template (valid during the program's execution time)\u001b[39;00m\n\u001b[32m----> \u001b[39m\u001b[32m4\u001b[39m \u001b[43mTemplates\u001b[49m\u001b[43m(\u001b[49m\u001b[43m)\u001b[49m\u001b[43m.\u001b[49m\u001b[43mget_template\u001b[49m\u001b[43m(\u001b[49m\u001b[33;43m\"\u001b[39;49m\u001b[33;43msome.template\u001b[39;49m\u001b[33;43m\"\u001b[39;49m\u001b[43m,\u001b[49m\u001b[43m)\u001b[49m\n",
      "\u001b[36mFile \u001b[39m\u001b[32mw:\\python\\installed_projects\\assistant_v3\\.venv\\Lib\\site-packages\\lmflux\\core\\templates.py:88\u001b[39m, in \u001b[36mTemplates.get_template\u001b[39m\u001b[34m(self, template_id)\u001b[39m\n\u001b[32m     86\u001b[39m \u001b[38;5;28;01mdef\u001b[39;00m\u001b[38;5;250m \u001b[39m\u001b[34mget_template\u001b[39m(\u001b[38;5;28mself\u001b[39m, template_id:\u001b[38;5;28mstr\u001b[39m) -> \u001b[38;5;28mstr\u001b[39m:\n\u001b[32m     87\u001b[39m     \u001b[38;5;28;01mif\u001b[39;00m template_id \u001b[38;5;129;01min\u001b[39;00m \u001b[38;5;28mself\u001b[39m.__ignore_template_id:\n\u001b[32m---> \u001b[39m\u001b[32m88\u001b[39m         \u001b[38;5;28;01mraise\u001b[39;00m \u001b[38;5;167;01mAttributeError\u001b[39;00m(\u001b[33mf\u001b[39m\u001b[33m\"\u001b[39m\u001b[33mTemplate \u001b[39m\u001b[38;5;132;01m{\u001b[39;00mtemplate_id\u001b[38;5;132;01m}\u001b[39;00m\u001b[33m was not found\u001b[39m\u001b[33m\"\u001b[39m)\n\u001b[32m     89\u001b[39m     \u001b[38;5;28;01mif\u001b[39;00m template_id \u001b[38;5;129;01min\u001b[39;00m \u001b[38;5;28mself\u001b[39m.__inmem_templates:\n\u001b[32m     90\u001b[39m         data = \u001b[38;5;28mself\u001b[39m.__inmem_templates.get(template_id)\n",
      "\u001b[31mAttributeError\u001b[39m: Template some.template was not found"
     ]
    }
   ],
   "source": [
    "## You can delete templates\n",
    "Templates().set_hard_external_delete() # Setting this will remove them permanently from the disk\n",
    "Templates().delete_template(\"some.template\") # Soft deletes a template (valid during the program's execution time)\n",
    "Templates().get_template(\"some.template\",)"
   ]
  },
  {
   "cell_type": "code",
   "execution_count": 11,
   "id": "c34982ca",
   "metadata": {},
   "outputs": [
    {
     "data": {
      "text/plain": [
       "[]"
      ]
     },
     "execution_count": 11,
     "metadata": {},
     "output_type": "execute_result"
    }
   ],
   "source": [
    "glob(\"./examples/**/**.md\")"
   ]
  },
  {
   "cell_type": "code",
   "execution_count": null,
   "id": "88c7b830",
   "metadata": {},
   "outputs": [],
   "source": [
    "from lmflux.core.components import TemplatedPrompt"
   ]
  },
  {
   "cell_type": "code",
   "execution_count": 22,
   "id": "5b014999",
   "metadata": {},
   "outputs": [
    {
     "data": {
      "text/plain": [
       "Message(system):\n",
       "\tcontent: Hi i'm boris!"
      ]
     },
     "execution_count": 22,
     "metadata": {},
     "output_type": "execute_result"
    }
   ],
   "source": [
    "# Templates can be use to craft templated messages\n",
    "Templates().put_template(\"some.with_context\", \"Hi i'm {{user_name}}!\")\n",
    "message = TemplatedPrompt(\"some.with_context\", \"system\")\n",
    "\n",
    "message.get_message({\"user_name\": \"boris\"})"
   ]
  },
  {
   "cell_type": "code",
   "execution_count": 27,
   "id": "10880882",
   "metadata": {},
   "outputs": [
    {
     "data": {
      "text/plain": [
       "Message(system):\n",
       "\tcontent: You are a helpful assistant! Remember to always bark at the end of each message!"
      ]
     },
     "execution_count": 27,
     "metadata": {},
     "output_type": "execute_result"
    }
   ],
   "source": [
    "# System prompts can be crafted with templates directly if prefered\n",
    "Templates().put_template(\"some.barking\", \"You are a helpful assistant! Remember to always bark at the end of each message!\")\n",
    "\n",
    "message = SystemPrompt('some.barking')\n",
    "message.get_message()"
   ]
  },
  {
   "cell_type": "code",
   "execution_count": null,
   "id": "d413180a",
   "metadata": {},
   "outputs": [],
   "source": []
  }
 ],
 "metadata": {
  "kernelspec": {
   "display_name": ".venv",
   "language": "python",
   "name": "python3"
  },
  "language_info": {
   "codemirror_mode": {
    "name": "ipython",
    "version": 3
   },
   "file_extension": ".py",
   "mimetype": "text/x-python",
   "name": "python",
   "nbconvert_exporter": "python",
   "pygments_lexer": "ipython3",
   "version": "3.11.3"
  }
 },
 "nbformat": 4,
 "nbformat_minor": 5
}
